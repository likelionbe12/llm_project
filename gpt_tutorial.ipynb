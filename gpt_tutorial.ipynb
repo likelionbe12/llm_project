{
 "cells": [
  {
   "cell_type": "code",
   "execution_count": 14,
   "metadata": {},
   "outputs": [],
   "source": [
    "from dotenv import load_dotenv\n",
    "import os\n",
    "\n",
    "# .env 파일에서 환경 변수를 로드합니다.\n",
    "load_dotenv()\n",
    "\n",
    "# 환경 변수를 사용하여 API 키를 불러옵니다.\n",
    "openai_api_key = os.getenv(\"OPENAI_API_KEY\")"
   ]
  },
  {
   "cell_type": "code",
   "execution_count": null,
   "metadata": {},
   "outputs": [],
   "source": [
    "from openai import OpenAI\n",
    "client = OpenAI(api_key=openai_api_key)"
   ]
  },
  {
   "cell_type": "code",
   "execution_count": null,
   "metadata": {},
   "outputs": [],
   "source": [
    "MODEL = \"gpt-4o\"\n",
    "\n",
    "completion = client.chat.completions.create(\n",
    "    model=MODEL,\n",
    "    messages=[\n",
    "        {\"role\": \"user\", \"content\": \"멋쟁이 사자처럼에서 공부하는 분들에게 응원메시지 줘\"}\n",
    "    ]\n",
    ")"
   ]
  },
  {
   "cell_type": "code",
   "execution_count": null,
   "metadata": {},
   "outputs": [
    {
     "data": {
      "text/plain": [
       "ChatCompletion(id='chatcmpl-AOEMoNc1KVzVF8CPkAhI9YR9qQ3wY', choices=[Choice(finish_reason='stop', index=0, logprobs=None, message=ChatCompletionMessage(content='안녕하세요, 멋쟁이 사자처럼에서 열심히 공부하고 있는 여러분!\\n\\n배움의 길에 들어선 여러분의 용기와 열정에 큰 박수를 보냅니다. 각자의 목표를 향해 열심히 나아가는 여러분의 모습은 정말 멋집니다. 때로는 어려운 순간도 있겠지만, 그럴 때일수록 한 걸음씩 꾸준히 걸어가는 것이 중요하답니다. 여러분이 쌓아가는 지식과 경험은 분명히 큰 결실로 돌아올 것입니다.\\n\\n함께 성장하는 동료들과 서로 격려하며 즐거운 학습 여정이 되길 바랍니다. 여러분의 꿈을 응원합니다. 파이팅! 🌟', refusal=None, role='assistant', audio=None, function_call=None, tool_calls=None))], created=1730338462, model='gpt-4o-2024-08-06', object='chat.completion', service_tier=None, system_fingerprint='fp_159d8341cc', usage=CompletionUsage(completion_tokens=156, prompt_tokens=26, total_tokens=182, completion_tokens_details=CompletionTokensDetails(audio_tokens=None, reasoning_tokens=0), prompt_tokens_details=PromptTokensDetails(audio_tokens=None, cached_tokens=0)))"
      ]
     },
     "execution_count": 17,
     "metadata": {},
     "output_type": "execute_result"
    }
   ],
   "source": [
    "completion"
   ]
  },
  {
   "cell_type": "code",
   "execution_count": 24,
   "metadata": {},
   "outputs": [
    {
     "data": {
      "text/plain": [
       "'안녕하세요, 멋쟁이 사자처럼에서 열심히 공부하고 있는 여러분!\\n\\n배움의 길에 들어선 여러분의 용기와 열정에 큰 박수를 보냅니다. 각자의 목표를 향해 열심히 나아가는 여러분의 모습은 정말 멋집니다. 때로는 어려운 순간도 있겠지만, 그럴 때일수록 한 걸음씩 꾸준히 걸어가는 것이 중요하답니다. 여러분이 쌓아가는 지식과 경험은 분명히 큰 결실로 돌아올 것입니다.\\n\\n함께 성장하는 동료들과 서로 격려하며 즐거운 학습 여정이 되길 바랍니다. 여러분의 꿈을 응원합니다. 파이팅! 🌟'"
      ]
     },
     "execution_count": 24,
     "metadata": {},
     "output_type": "execute_result"
    }
   ],
   "source": [
    "completion.choices[0].message.content"
   ]
  }
 ],
 "metadata": {
  "kernelspec": {
   "display_name": "gpt",
   "language": "python",
   "name": "python3"
  },
  "language_info": {
   "codemirror_mode": {
    "name": "ipython",
    "version": 3
   },
   "file_extension": ".py",
   "mimetype": "text/x-python",
   "name": "python",
   "nbconvert_exporter": "python",
   "pygments_lexer": "ipython3",
   "version": "3.10.15"
  }
 },
 "nbformat": 4,
 "nbformat_minor": 2
}
